{
 "cells": [
  {
   "cell_type": "code",
   "execution_count": 1,
   "id": "974c54ad",
   "metadata": {},
   "outputs": [],
   "source": [
    "import pandas as pd \n",
    "import numpy as np \n",
    "import matplotlib.pyplot as plt \n",
    "import tensorflow as tf\n",
    "tf.config.experimental.set_visible_devices([], 'GPU')\n",
    "from tensorflow import keras\n",
    "from tensorflow.keras import datasets , layers , models"
   ]
  },
  {
   "cell_type": "code",
   "execution_count": 2,
   "id": "3a10081b",
   "metadata": {},
   "outputs": [
    {
     "data": {
      "text/plain": [
       "(60000, 28, 28)"
      ]
     },
     "execution_count": 2,
     "metadata": {},
     "output_type": "execute_result"
    }
   ],
   "source": [
    "(X_train , y_train) , (X_test , y_test) = datasets.mnist.load_data()\n",
    "X_train.shape"
   ]
  },
  {
   "cell_type": "code",
   "execution_count": 3,
   "id": "077d9f0c",
   "metadata": {},
   "outputs": [
    {
     "data": {
      "text/plain": [
       "(10000, 28, 28)"
      ]
     },
     "execution_count": 3,
     "metadata": {},
     "output_type": "execute_result"
    }
   ],
   "source": [
    "X_test.shape"
   ]
  },
  {
   "cell_type": "code",
   "execution_count": 5,
   "id": "9c9ce441",
   "metadata": {
    "scrolled": true
   },
   "outputs": [],
   "source": [
    "X_train = X_train /255\n",
    "X_test = X_test /255"
   ]
  },
  {
   "cell_type": "code",
   "execution_count": 10,
   "id": "93b47e1e",
   "metadata": {},
   "outputs": [],
   "source": [
    "X_train=X_train.reshape(60000,28,28,1)\n",
    "X_test=X_test.reshape(10000,28,28,1)"
   ]
  },
  {
   "cell_type": "code",
   "execution_count": 11,
   "id": "924cf96a",
   "metadata": {},
   "outputs": [
    {
     "data": {
      "text/plain": [
       "(60000, 28, 28, 1)"
      ]
     },
     "execution_count": 11,
     "metadata": {},
     "output_type": "execute_result"
    }
   ],
   "source": [
    "X_train.shape"
   ]
  },
  {
   "cell_type": "code",
   "execution_count": 13,
   "id": "17a59818",
   "metadata": {
    "scrolled": true
   },
   "outputs": [
    {
     "data": {
      "image/png": "[encoded data removed]",
      "text/plain": [
       "<Figure size 1080x144 with 1 Axes>"
      ]
     },
     "metadata": {
      "needs_background": "light"
     },
     "output_type": "display_data"
    }
   ],
   "source": [
    "plt.figure(figsize=(15,2))\n",
    "plt.axis(\"off\")\n",
    "plt.imshow(X_train[0])\n",
    "plt.show()"
   ]
  },
  {
   "cell_type": "code",
   "execution_count": 14,
   "id": "4eb65a9a",
   "metadata": {},
   "outputs": [
    {
     "data": {
      "text/plain": [
       "array([5, 0, 4, 1, 9], dtype=uint8)"
      ]
     },
     "execution_count": 14,
     "metadata": {},
     "output_type": "execute_result"
    }
   ],
   "source": [
    "y_train[:5]"
   ]
  },
  {
   "cell_type": "code",
   "execution_count": 26,
   "id": "318bf780",
   "metadata": {},
   "outputs": [],
   "source": [
    "model = keras.Sequential([\n",
    "    keras.layers.Conv2D(filters=32 , kernel_size=3 , padding=\"SAME\" , activation=\"relu\" , input_shape=[28,28,1]),\n",
    "    keras.layers.MaxPooling2D(pool_size=2),\n",
    "    keras.layers.Conv2D(filters=64 , kernel_size=3  , padding=\"SAME\" , activation=\"relu\"),\n",
    "    keras.layers.MaxPooling2D(pool_size=2),\n",
    "    keras.layers.Conv2D(filters=128 , kernel_size=3 , padding=\"SAME\" , activation=\"relu\"),\n",
    "    keras.layers.MaxPooling2D(pool_size=2),\n",
    "    keras.layers.Flatten(),\n",
    "    keras.layers.Dense(128 , activation=\"relu\"),\n",
    "    keras.layers.Dense(64 , activation=\"relu\"),\n",
    "    keras.layers.Dense(10 , activation=\"softmax\"),\n",
    "])"
   ]
  },
  {
   "cell_type": "code",
   "execution_count": 27,
   "id": "026e2c73",
   "metadata": {},
   "outputs": [
    {
     "name": "stdout",
     "output_type": "stream",
     "text": [
      "Epoch 1/20\n"
     ]
    },
    {
     "name": "stderr",
     "output_type": "stream",
     "text": [
      "C:\\Users\\amr\\anaconda3\\lib\\site-packages\\keras\\backend.py:5582: UserWarning: \"`sparse_categorical_crossentropy` received `from_logits=True`, but the `output` argument was produced by a Softmax activation and thus does not represent logits. Was this intended?\n",
      "  output, from_logits = _get_logits(\n"
     ]
    },
    {
     "name": "stdout",
     "output_type": "stream",
     "text": [
      "1688/1688 [==============================] - 35s 21ms/step - loss: 0.1579 - accuracy: 0.9495 - val_loss: 0.0494 - val_accuracy: 0.9845\n",
      "Epoch 2/20\n",
      "1688/1688 [==============================] - 35s 21ms/step - loss: 0.0475 - accuracy: 0.9856 - val_loss: 0.0355 - val_accuracy: 0.9888\n",
      "Epoch 3/20\n",
      "1688/1688 [==============================] - 34s 20ms/step - loss: 0.0335 - accuracy: 0.9896 - val_loss: 0.0465 - val_accuracy: 0.9873\n",
      "Epoch 4/20\n",
      "1688/1688 [==============================] - 33s 20ms/step - loss: 0.0272 - accuracy: 0.9917 - val_loss: 0.0354 - val_accuracy: 0.9908\n",
      "Epoch 5/20\n",
      "1688/1688 [==============================] - 28s 17ms/step - loss: 0.0209 - accuracy: 0.9931 - val_loss: 0.0326 - val_accuracy: 0.9910\n",
      "Epoch 6/20\n",
      "1688/1688 [==============================] - 33s 20ms/step - loss: 0.0173 - accuracy: 0.9946 - val_loss: 0.0317 - val_accuracy: 0.9920\n",
      "Epoch 7/20\n",
      "1688/1688 [==============================] - 37s 22ms/step - loss: 0.0146 - accuracy: 0.9955 - val_loss: 0.0342 - val_accuracy: 0.9913\n",
      "Epoch 8/20\n",
      "1688/1688 [==============================] - 37s 22ms/step - loss: 0.0137 - accuracy: 0.9959 - val_loss: 0.0221 - val_accuracy: 0.9947\n",
      "Epoch 9/20\n",
      "1688/1688 [==============================] - 36s 22ms/step - loss: 0.0095 - accuracy: 0.9969 - val_loss: 0.0478 - val_accuracy: 0.9887\n",
      "Epoch 10/20\n",
      "1688/1688 [==============================] - 37s 22ms/step - loss: 0.0111 - accuracy: 0.9963 - val_loss: 0.0372 - val_accuracy: 0.9917\n",
      "Epoch 11/20\n",
      "1688/1688 [==============================] - 37s 22ms/step - loss: 0.0095 - accuracy: 0.9969 - val_loss: 0.0358 - val_accuracy: 0.9922\n",
      "Epoch 12/20\n",
      "1688/1688 [==============================] - 37s 22ms/step - loss: 0.0074 - accuracy: 0.9976 - val_loss: 0.0551 - val_accuracy: 0.9875\n",
      "Epoch 13/20\n",
      "1688/1688 [==============================] - 37s 22ms/step - loss: 0.0089 - accuracy: 0.9972 - val_loss: 0.0347 - val_accuracy: 0.9940\n",
      "Epoch 14/20\n",
      "1688/1688 [==============================] - 37s 22ms/step - loss: 0.0065 - accuracy: 0.9976 - val_loss: 0.0338 - val_accuracy: 0.9933\n",
      "Epoch 15/20\n",
      "1688/1688 [==============================] - 37s 22ms/step - loss: 0.0082 - accuracy: 0.9974 - val_loss: 0.0315 - val_accuracy: 0.9932\n",
      "Epoch 16/20\n",
      "1688/1688 [==============================] - 36s 22ms/step - loss: 0.0043 - accuracy: 0.9987 - val_loss: 0.0299 - val_accuracy: 0.9948\n",
      "Epoch 17/20\n",
      "1688/1688 [==============================] - 37s 22ms/step - loss: 0.0079 - accuracy: 0.9976 - val_loss: 0.0444 - val_accuracy: 0.9930\n",
      "Epoch 18/20\n",
      "1688/1688 [==============================] - 38s 22ms/step - loss: 0.0054 - accuracy: 0.9984 - val_loss: 0.0469 - val_accuracy: 0.9910\n"
     ]
    },
    {
     "data": {
      "text/plain": [
       "<keras.callbacks.History at 0x2cb3299d730>"
      ]
     },
     "execution_count": 27,
     "metadata": {},
     "output_type": "execute_result"
    }
   ],
   "source": [
    "model.compile(optimizer=\"adam\" , loss = tf.keras.losses.SparseCategoricalCrossentropy(from_logits=True) , metrics=[\"accuracy\"])\n",
    "model.fit(X_train , y_train ,epochs=20, validation_split=0.1 , callbacks=[keras.callbacks.EarlyStopping(patience=10 , restore_best_weights=True)])"
   ]
  },
  {
   "cell_type": "code",
   "execution_count": 28,
   "id": "e2a832ba",
   "metadata": {},
   "outputs": [
    {
     "name": "stdout",
     "output_type": "stream",
     "text": [
      "313/313 [==============================] - 2s 5ms/step - loss: 0.0223 - accuracy: 0.9934\n"
     ]
    },
    {
     "data": {
      "text/plain": [
       "[0.022295624017715454, 0.993399977684021]"
      ]
     },
     "execution_count": 28,
     "metadata": {},
     "output_type": "execute_result"
    }
   ],
   "source": [
    "model.evaluate(X_test , y_test)"
   ]
  },
  {
   "cell_type": "code",
   "execution_count": 30,
   "id": "2a7db30a",
   "metadata": {},
   "outputs": [
    {
     "name": "stdout",
     "output_type": "stream",
     "text": [
      "313/313 [==============================] - 2s 5ms/step\n"
     ]
    }
   ],
   "source": [
    "predictions = model.predict(X_test)"
   ]
  },
  {
   "cell_type": "code",
   "execution_count": 33,
   "id": "f201e2ad",
   "metadata": {},
   "outputs": [],
   "source": [
    "score = tf.nn.softmax(predictions[0])"
   ]
  },
  {
   "cell_type": "code",
   "execution_count": 34,
   "id": "e7d03f08",
   "metadata": {},
   "outputs": [
    {
     "data": {
      "text/plain": [
       "7"
      ]
     },
     "execution_count": 34,
     "metadata": {},
     "output_type": "execute_result"
    }
   ],
   "source": [
    "np.argmax(score)"
   ]
  },
  {
   "cell_type": "code",
   "execution_count": 35,
   "id": "8b52fb77",
   "metadata": {},
   "outputs": [
    {
     "data": {
      "text/plain": [
       "7"
      ]
     },
     "execution_count": 35,
     "metadata": {},
     "output_type": "execute_result"
    }
   ],
   "source": [
    "y_test[0]"
   ]
  },
  {
   "cell_type": "code",
   "execution_count": 38,
   "id": "bb4b1bdd",
   "metadata": {},
   "outputs": [
    {
     "data": {
      "text/plain": [
       "1"
      ]
     },
     "execution_count": 38,
     "metadata": {},
     "output_type": "execute_result"
    }
   ],
   "source": [
    "np.argmax(tf.nn.softmax(predictions[5]))"
   ]
  },
  {
   "cell_type": "code",
   "execution_count": 39,
   "id": "1116e652",
   "metadata": {},
   "outputs": [
    {
     "data": {
      "text/plain": [
       "1"
      ]
     },
     "execution_count": 39,
     "metadata": {},
     "output_type": "execute_result"
    }
   ],
   "source": [
    "y_test[5]"
   ]
  },
  {
   "cell_type": "code",
   "execution_count": null,
   "id": "e134dbf7",
   "metadata": {},
   "outputs": [],
   "source": []
  }
 ],
 "metadata": {
  "kernelspec": {
   "display_name": "Python 3 (ipykernel)",
   "language": "python",
   "name": "python3"
  },
  "language_info": {
   "codemirror_mode": {
    "name": "ipython",
    "version": 3
   },
   "file_extension": ".py",
   "mimetype": "text/x-python",
   "name": "python",
   "nbconvert_exporter": "python",
   "pygments_lexer": "ipython3",
   "version": "3.9.12"
  }
 },
 "nbformat": 4,
 "nbformat_minor": 5
}
